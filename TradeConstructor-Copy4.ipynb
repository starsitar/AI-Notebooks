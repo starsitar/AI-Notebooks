{
 "cells": [
  {
   "cell_type": "markdown",
   "id": "252db372",
   "metadata": {},
   "source": [
    "Load Trade Embeddings"
   ]
  },
  {
   "cell_type": "code",
   "execution_count": 1,
   "id": "39eabdb9",
   "metadata": {},
   "outputs": [
    {
     "name": "stderr",
     "output_type": "stream",
     "text": [
      "/home/prash/.local/lib/python3.10/site-packages/deeplake/util/check_latest_version.py:32: UserWarning: A newer version of deeplake (3.8.3) is available. It's recommended that you update to the latest version using `pip install -U deeplake`.\n",
      "  warnings.warn(\n"
     ]
    }
   ],
   "source": [
    "import os\n",
    "from langchain.storage import LocalFileStore\n",
    "from langchain.embeddings import OpenAIEmbeddings, CacheBackedEmbeddings\n",
    "from langchain.text_splitter import RecursiveCharacterTextSplitter\n",
    "from langchain.vectorstores import FAISS\n",
    "from langchain.document_loaders import TextLoader\n",
    "from apikey import apikey\n",
    "from langchain import OpenAI\n",
    "from langchain.chains import RetrievalQA\n",
    "\n",
    "os.environ['OPENAI_API_KEY'] = apikey\n",
    "\n",
    "embeddings = OpenAIEmbeddings()\n",
    "\n",
    "db = FAISS.load_local(\"faiss_index_trades\", embeddings)\n",
    "\n",
    "llm = OpenAI(temperature=0.6, openai_api_key=apikey)\n",
    "qa = RetrievalQA.from_chain_type(llm=llm, chain_type=\"refine\", retriever=db.as_retriever())"
   ]
  },
  {
   "cell_type": "code",
   "execution_count": null,
   "id": "65d623ad",
   "metadata": {},
   "outputs": [],
   "source": []
  },
  {
   "cell_type": "code",
   "execution_count": 13,
   "id": "938f4523",
   "metadata": {},
   "outputs": [],
   "source": [
    "from langchain.schema.runnable import RunnableMap, RunnablePassthrough\n",
    "from langchain.prompts import ChatPromptTemplate\n",
    "from langchain.chat_models import ChatOpenAI\n",
    "from langchain.schema import StrOutputParser\n",
    "from langchain.schema.runnable import RunnableMap, RunnablePassthrough\n",
    "from operator import itemgetter\n",
    "\n",
    "initialanalysis = (\n",
    "    ChatPromptTemplate.from_template(\n",
    "        \"Keep the all the data and create an Explanation, a profit maximizing scenario, and trade instructions from this: {instructions}\"\n",
    "    )\n",
    "    | ChatOpenAI(model_name=\"gpt-4\", openai_api_key=apikey, verbose = True)\n",
    "    | StrOutputParser()\n",
    "    | {\"base_response\": RunnablePassthrough()}\n",
    ")\n",
    "\n",
    "explanation = (\n",
    "    ChatPromptTemplate.from_messages(\n",
    "        [\n",
    "            (\"ai\", \"{base_response}\"),\n",
    "            (\"system\", \"Generate a correct explanation and make it more detailed\"),\n",
    "        ]\n",
    "    )\n",
    "    | ChatOpenAI(model_name=\"gpt-3.5-turbo\", openai_api_key=apikey, verbose = True)\n",
    "    | StrOutputParser()\n",
    ")\n",
    "\n",
    "profit = (\n",
    "    ChatPromptTemplate.from_messages(\n",
    "        [\n",
    "            (\"ai\", \"{base_response}\"),\n",
    "            (\"system\", \"Generate a correct profit maximizing scenario and make it more detailed\"),\n",
    "        ]\n",
    "    )\n",
    "    | ChatOpenAI(model_name=\"gpt-3.5-turbo\", openai_api_key=apikey, verbose = True)\n",
    "    | StrOutputParser()\n",
    ")\n",
    "\n",
    "trade = (\n",
    "    ChatPromptTemplate.from_messages(\n",
    "        [\n",
    "            (\"ai\", \"{base_response}\"),\n",
    "            (\"system\", \"Generate a correct set of steps with specific amounts to execute a $200 trade for this scenario\"),\n",
    "        ]\n",
    "    )\n",
    "    | ChatOpenAI(model_name=\"gpt-3.5-turbo\", openai_api_key=apikey, verbose = True)\n",
    "    | StrOutputParser()\n",
    ")\n",
    "\n",
    "final_responder = (\n",
    "    ChatPromptTemplate.from_messages(\n",
    "        [\n",
    "            (\"ai\", \"{original_response}\"),\n",
    "            (\"human\", \"ScenarioExplanation:\\n{explanation}\\n\\n:\\n{profit}\\n\\n:\\n{trade}\"),\n",
    "            (\"system\", \"Generate a final response including scenratio explanation, profit strategy, and trade actions. Explicitly state the input data set values\"),\n",
    "        ]\n",
    "    )\n",
    "    | ChatOpenAI(model_name=\"gpt-4\", openai_api_key=apikey, verbose = True)\n",
    "    | StrOutputParser()\n",
    ")    \n",
    "\n",
    "chain = (\n",
    "    initialanalysis \n",
    "    | {\n",
    "        \"Trade\": trade,\n",
    "    }\n",
    ")\n",
    "\n"
   ]
  },
  {
   "cell_type": "code",
   "execution_count": 14,
   "id": "6605c1c4",
   "metadata": {},
   "outputs": [
    {
     "data": {
      "text/plain": [
       "{'Trade': 'Trade Instructions:\\n\\n1. Sell $200 worth of BTC. Based on the current BTC price of $29,450, this equals approximately 0.0068 BTC.\\n\\n2. Use the $200 from the sale of BTC to buy ETH. Based on the current ETH price of $1621, this equals approximately 0.1234 ETH.\\n\\n3. Monitor the market and hold the ETH until the Z-Score is closer to 0, indicating that ETH has reached its average value relative to BTC.\\n\\n4. Sell the ETH for a profit.'}"
      ]
     },
     "execution_count": 14,
     "metadata": {},
     "output_type": "execute_result"
    }
   ],
   "source": [
    "datapoint = \"ETH Price = 1621, BTC Price = 29450, Ratio = 0.055, Z-Score = -2.65\"\n",
    "chain.invoke({\"instructions\":str(datapoint)+\"\\n\"+str(qa.run(datapoint))})"
   ]
  },
  {
   "cell_type": "code",
   "execution_count": null,
   "id": "865bd041",
   "metadata": {},
   "outputs": [],
   "source": []
  }
 ],
 "metadata": {
  "kernelspec": {
   "display_name": "Python 3 (ipykernel)",
   "language": "python",
   "name": "python3"
  },
  "language_info": {
   "codemirror_mode": {
    "name": "ipython",
    "version": 3
   },
   "file_extension": ".py",
   "mimetype": "text/x-python",
   "name": "python",
   "nbconvert_exporter": "python",
   "pygments_lexer": "ipython3",
   "version": "3.10.12"
  }
 },
 "nbformat": 4,
 "nbformat_minor": 5
}
