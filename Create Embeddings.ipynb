{
 "cells": [
  {
   "cell_type": "code",
   "execution_count": null,
   "id": "cad82c64",
   "metadata": {},
   "outputs": [],
   "source": [
    "###### import os\n",
    "import PyPDF2\n",
    "\n",
    "# Input paths\n",
    "folder_path = \"case_studies\"\n",
    "output_txt_file = \"case_studies.txt\"\n",
    "\n",
    "# Initialize an empty string to accumulate text from all PDFs\n",
    "all_text = \"\"\n",
    "\n",
    "# Iterate through each file in the folder\n",
    "for filename in os.listdir(folder_path):\n",
    "    if filename.endswith(\".pdf\"):\n",
    "        pdf_path = os.path.join(folder_path, filename)\n",
    "        \n",
    "        # Open and read the PDF file\n",
    "        with open(pdf_path, 'rb') as pdf_file:\n",
    "            reader = PyPDF2.PdfReader(pdf_file)\n",
    "            for page_num in range(len(reader.pages)):\n",
    "                all_text += reader.pages[page_num].extract_text()\n",
    "\n",
    "# Write the combined text into a single file\n",
    "with open(output_txt_file, 'w', encoding='utf-8') as txt_file:\n",
    "    txt_file.write(all_text)\n",
    "\n",
    "print(f\"Text from all PDFs in {folder_path} has been written to {output_txt_file}.\")\n",
    "\n"
   ]
  },
  {
   "cell_type": "code",
   "execution_count": 1,
   "id": "81c37721",
   "metadata": {},
   "outputs": [
    {
     "name": "stderr",
     "output_type": "stream",
     "text": [
      "/home/prash/.local/lib/python3.10/site-packages/deeplake/util/check_latest_version.py:32: UserWarning: A newer version of deeplake (3.8.2) is available. It's recommended that you update to the latest version using `pip install -U deeplake`.\n",
      "  warnings.warn(\n"
     ]
    }
   ],
   "source": [
    "import os\n",
    "from langchain.storage import LocalFileStore\n",
    "from langchain.embeddings import OpenAIEmbeddings, CacheBackedEmbeddings\n",
    "from langchain.text_splitter import RecursiveCharacterTextSplitter\n",
    "from langchain.vectorstores import FAISS\n",
    "from langchain.document_loaders import TextLoader\n",
    "from apikey import apikey\n",
    "from langchain import OpenAI\n",
    "\n",
    "os.environ['OPENAI_API_KEY'] = apikey\n",
    "\n",
    "# The LangChain component we'll use to get the documents\n",
    "from langchain.chains import Retrieval\n",
    "\n",
    "\n",
    "#Run from Here for case analysis\n",
    "#loader = TextLoader('case_studies.txt')\n",
    "#pages = loader.load_and_split()\n",
    "loader = TextLoader('case_studies.txt')\n",
    "doc = loader.load()\n",
    "\n",
    "text_splitter = RecursiveCharacterTextSplitter(chunk_size=3900, chunk_overlap=400)\n",
    "docs = text_splitter.split_documents(doc)\n",
    "\n",
    "fs = LocalFileStore(\"./cached_embeddings\")\n",
    "underlying_embeddings = OpenAIEmbeddings()\n",
    "embedder = CacheBackedEmbeddings.from_bytes_store(\n",
    "    underlying_embeddings, fs, namespace=underlying_embeddings.model\n",
    ")\n",
    "\n",
    "db = FAISS.from_documents(docs, embedder)\n"
   ]
  },
  {
   "cell_type": "code",
   "execution_count": 6,
   "id": "a8634290",
   "metadata": {},
   "outputs": [],
   "source": [
    "db.save_local(\"faiss_index_cases\")"
   ]
  },
  {
   "cell_type": "code",
   "execution_count": 4,
   "id": "d51631c8",
   "metadata": {},
   "outputs": [],
   "source": [
    "\n",
    "\n",
    "llm = OpenAI(temperature=0.6, openai_api_key=apikey)\n",
    "qa = RetrievalQA.from_chain_type(llm=llm, chain_type=\"refine\", retriever=db.as_retriever())"
   ]
  },
  {
   "cell_type": "code",
   "execution_count": 5,
   "id": "4e894328",
   "metadata": {
    "scrolled": true
   },
   "outputs": [
    {
     "data": {
      "text/plain": [
       "' \\n\\nThe law of variable proportions states that when one of the factors of production is held fixed in supply, successive additions of the other factors will lead to an increase in returns up to a point, but beyond this point returns will diminish. This law is closely related to the concept of elasticity, which measures the responsiveness of the quantity demanded of a good to its price. Price elasticity of demand is measured as the percentage change in quantity demanded that occurs in response to a percentage change in price. Cross-elasticity of demand measures the responsiveness of the quantity demanded of one good to a price change in another good. The law of variable proportions can be used to understand the responsiveness of demand to changes in price or other factors, and it can also be applied to market sizing exercises to help a business understand the relationship between factors of production and how these factors can affect returns. For example, in the case of a glass bottles manufacturer in Russia, the law of variable proportions can be used to assess the impact of switching one of its production lines from 0.75 liter bottles to 0.25 liter bottles. In this case, the manufacturer should be aware that the price per kilogram of 0.25 liter bottle is much higher than the price per kilogram of 0.'"
      ]
     },
     "execution_count": 5,
     "metadata": {},
     "output_type": "execute_result"
    }
   ],
   "source": [
    "query = \"what is the law of variable proportions?\"\n",
    "qa.run(query)"
   ]
  },
  {
   "cell_type": "code",
   "execution_count": 8,
   "id": "14538474",
   "metadata": {},
   "outputs": [],
   "source": [
    "new_db = FAISS.load_local(\"faiss_index_cases\", embedder)"
   ]
  },
  {
   "cell_type": "code",
   "execution_count": 10,
   "id": "10d44de3",
   "metadata": {},
   "outputs": [],
   "source": [
    "llm = OpenAI(temperature=0.6, openai_api_key=apikey)\n",
    "qa2 = RetrievalQA.from_chain_type(llm=llm, chain_type=\"refine\", retriever=new_db.as_retriever())"
   ]
  },
  {
   "cell_type": "code",
   "execution_count": 14,
   "id": "c08cc19c",
   "metadata": {},
   "outputs": [
    {
     "data": {
      "text/plain": [
       "\"\\n\\n· Has the customer base shifted in any way? \\n· Are there any external factors that could be affecting customer behavior (e.g. economic climate, new competition, healthcare reform)? \\n· Are there any internal factors that could be affecting customer behaviour (e.g. changes in service, quality, pricing, product features, promotion, distribution channels)? \\n· Are there any changes in customer preferences or buying habits? \\n· Are there any new marketing or advertising strategies that have been implemented? \\n· Has there been any changes in the company's supply chain or distribution methods? \\n· Are there any changes in the company's target market or customer demographics? \\n· Are there any changes in the company's customer service or customer experience?\\n· Have costs increased?  \\n· Have revenues declined?  \\n· Have prices been changed?  \\n· Have new video stores opened in the area?  \\n· Are fewer customers coming to the store?  \\n· Are customers renting fewer videos?  \\n· Have other entertainment venues opened in the area?  \\n· Have their been economic changes in the area?  \\n· Has a new store opened in the area? \\n· Has a new movie theatre opened?\""
      ]
     },
     "execution_count": 14,
     "metadata": {},
     "output_type": "execute_result"
    }
   ],
   "source": [
    "query2 = \"what questions should you ask for a case similar to hoopla?\"\n",
    "qa2.run(query2)"
   ]
  },
  {
   "cell_type": "code",
   "execution_count": null,
   "id": "a7782cd3",
   "metadata": {},
   "outputs": [],
   "source": []
  }
 ],
 "metadata": {
  "kernelspec": {
   "display_name": "Python 3 (ipykernel)",
   "language": "python",
   "name": "python3"
  },
  "language_info": {
   "codemirror_mode": {
    "name": "ipython",
    "version": 3
   },
   "file_extension": ".py",
   "mimetype": "text/x-python",
   "name": "python",
   "nbconvert_exporter": "python",
   "pygments_lexer": "ipython3",
   "version": "3.10.12"
  }
 },
 "nbformat": 4,
 "nbformat_minor": 5
}
